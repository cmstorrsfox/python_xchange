{
 "metadata": {
  "language_info": {
   "codemirror_mode": {
    "name": "ipython",
    "version": 3
   },
   "file_extension": ".py",
   "mimetype": "text/x-python",
   "name": "python",
   "nbconvert_exporter": "python",
   "pygments_lexer": "ipython3",
   "version": "3.9.2"
  },
  "orig_nbformat": 2,
  "kernelspec": {
   "name": "python392jvsc74a57bd0672165424b2176c0518825bbf6ac5cf7557130af1791d59fe75c2bd75f102ae8",
   "display_name": "Python 3.9.2 64-bit"
  }
 },
 "nbformat": 4,
 "nbformat_minor": 2,
 "cells": [
  {
   "cell_type": "code",
   "execution_count": null,
   "metadata": {},
   "outputs": [],
   "source": [
    "import pandas as pd\n",
    "import yfinance as yf\n",
    "from ta import add_all_ta_features\n",
    "import finplot as fplt\n",
    "import warnings \n",
    "\n",
    "warnings.simplefilter(action=\"ignore\")"
   ]
  },
  {
   "cell_type": "code",
   "execution_count": null,
   "metadata": {},
   "outputs": [],
   "source": [
    "ticker_symbol = \"AMZN\"\n",
    "start_date = \"2015-04-01\"\n",
    "end_date = \"2021-05-08\"\n",
    "\n",
    "ticker_data = yf.Ticker(ticker_symbol)\n",
    "\n",
    "df = ticker_data.history(start=start_date, end=end_date)\n",
    "\n"
   ]
  },
  {
   "cell_type": "code",
   "execution_count": null,
   "metadata": {},
   "outputs": [],
   "source": [
    "#get previous and next day highs as columns in df\n",
    "df[\"Previous Day High\"] = df[\"High\"].shift(periods=-1)\n",
    "df[\"Next Day High\"] = df[\"High\"].shift(periods=1)\n",
    "df[\"Day After Next High\"] = df[\"High\"].shift(periods=2)\n",
    "\n",
    "#get previous and next day lows as columns in df\n",
    "df[\"Previous Day Low\"] = df[\"Low\"].shift(periods=-1)\n",
    "df[\"Next Day Low\"] = df[\"Low\"].shift(periods=1)\n",
    "df[\"Day After Next Low\"] = df[\"Low\"].shift(periods=2)\n",
    "\n",
    "\n",
    "#function to add True to rows that match the desired pattern\n",
    "def higher_pattern(row):\n",
    "    if (row[\"High\"] > row[\"Previous Day High\"]) & (row[\"Next Day High\"] > row[\"High\"]) & (row[\"Next Day High\"] > row[\"Day After Next High\"]):\n",
    "        val = True\n",
    "    else:\n",
    "        val = False\n",
    "    return val\n",
    "\n",
    "#create column that shows whether or not a day is a match\n",
    "df[\"higher_pattern\"] = df.apply(higher_pattern, axis=1)\n",
    "\n",
    "#function to add True to rows that match the desired pattern\n",
    "def lower_pattern(row):\n",
    "    if (row[\"Low\"] < row[\"Previous Day Low\"]) & (row[\"Next Day Low\"] < row[\"Low\"]) & (row[\"Next Day Low\"] > row[\"Day After Next Low\"]):\n",
    "        val = True\n",
    "    else:\n",
    "        val = False\n",
    "    return val\n",
    "\n",
    "#create column that shows whether or not a day is a match\n",
    "df[\"lower_pattern\"] = df.apply(lower_pattern, axis=1)\n",
    "\n",
    "\n",
    "#save high higher lower to Excel\n",
    "df.to_excel(\"nick pattern.xlsx\")\n"
   ]
  },
  {
   "cell_type": "code",
   "execution_count": null,
   "metadata": {},
   "outputs": [],
   "source": [
    "#finplot chart\n",
    "df.reset_index(level=0, inplace=True)\n"
   ]
  },
  {
   "cell_type": "code",
   "execution_count": 14,
   "metadata": {},
   "outputs": [],
   "source": [
    "ax = fplt.create_plot(rows=1)\n",
    "candles = df[[\"Date\", \"Open\", \"Close\", \"High\", \"Low\"]]\n",
    "fplt.candlestick_ochl(candles, ax=ax)\n",
    "\n",
    "high_wicks = df[\"higher_pattern\"]\n",
    "df.loc[(high_wicks), 'marker'] = df['High']\n",
    "fplt.plot(df['Date'], df['marker'], ax=ax, color='#4a5', style='^', legend='HH')\n",
    "\n",
    "fplt.show()"
   ]
  }
 ]
}